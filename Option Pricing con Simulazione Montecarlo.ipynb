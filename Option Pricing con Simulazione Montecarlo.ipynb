{
 "cells": [
  {
   "cell_type": "markdown",
   "id": "6a4d43e3",
   "metadata": {},
   "source": [
    "# Prezzare le opzioni call e put attraverso simulazione montecarlo e compendio teorico di riferimento\n",
    "2 dicembre 2022 - Giorgio Bella"
   ]
  },
  {
   "cell_type": "markdown",
   "id": "ed942b73",
   "metadata": {},
   "source": [
    "## Tassi d'interesse\n",
    "\n",
    "Il tasso d'interesse permette di determinare la variazione che subisce un capitale investito al tempo $T$ in un tempo successivo $T+\\Delta T$.\n",
    "\n",
    "Ad esempio, quando una banca presta del denaro ad un cliente viene fissato un tasso attraverso il quale l'importo oggetto del finanziamento viene rivalutato periodicamente finché il debito non viene estinto dal contraente.\n",
    "O ancora, se un investitore decide di comprare dei titoli di stato, è dichiarato un tasso che consente di determinare, a scadenza dell'investimento, quale sarà l'importo spettante.\n",
    "\n",
    "In tutti questi esempi la sola dichiarazione del tasso d'interesse creerebbe ambiguità, perché il suo significato dipende dal modo in cui il tasso d'interesse viene misurato.\n",
    "\n",
    "Supponendo, ad esempio, che gli interessi vengano calcolati una volta all'anno, l'investimento del capitale $C = 100€$ ad un tasso del $i=10\\%$, frutta dopo un anno il montante $M$:\n",
    "\n",
    "$$M=C\\cdot(1+i)=100€\\cdot1.1=110€$$\n",
    "\n",
    "Se gli interessi venissero però capitalizzati due volte all'anno, ipotizzando di tenere fissa la durata dell'investimento ad un anno, ogni 6 mesi andrebbe applicato $i'=\\frac{10\\%}{2}=5\\%$, costituendo quindi un montante pari a:\n",
    "\n",
    "$$M=C\\cdot(1+i')\\cdot(1+i')=C\\cdot(1+1')^2=100\\cdot1.05^2=110.25€$$\n",
    "\n",
    "Per analogia, se gli interessi venissero capitalizzati $m$ volte all'anno, si otterrebbe:\n",
    "\n",
    "$$M=C\\cdot\\left(1+\\frac{i}{m}\\right)^m$$\n",
    "\n",
    "Se l'investimento si protraesse per $n$ anni, considerano una capitalizzazione $m$ volte all'anno, si avrebbe un montate pari a:\n",
    "\n",
    "$$M=C\\cdot\\left(1+\\frac{i}{m}\\right)^{m\\cdot n}$$\n",
    "\n",
    "Risulta evidente che se la capitalizzazione degli interessi avvenisse nel continuo si avrebbe:\n",
    "\n",
    "$$M = \\lim_{m\\to +\\infty}C\\cdot\\left(1+\\frac{i}{m}\\right)^{m \\cdot n} = C\\cdot e^{i \\cdot n}$$\n",
    "\n",
    "Questo caso approssima molto bene il caso di una capitalizzazione applicata ogni giorno dell'anno e quindi questa formulazione viene largamente utilizzata per praticità di calcolo.\n",
    "\n",
    "Invertendo l'espressione, è possibile calcolare il valore attuale di un importo futuro. Nel caso nella capitalizzazione applicata $m$ volte all'anno per $n$ anni si ha:\n",
    "\n",
    "$$A=M\\cdot\\left(1+\\frac{i}{m}\\right)^{-m\\cdot n}$$\n",
    "\n",
    "E nel continuo:\n",
    "\n",
    "$$A=M\\cdot e^{-i \\cdot n}$$\n",
    "\n",
    "Nel caso specifico del problema di _Option Pricing_, questa espressione è utile perché la determinazione del prezzo del contratto derivato acquistato oggi è di fatto calcolato come il valore attuale del possibile profitto futuro."
   ]
  },
  {
   "cell_type": "markdown",
   "id": "3184de19",
   "metadata": {},
   "source": [
    "## Contratti derivati: le opzioni\n",
    "\n",
    "Le opzioni sono strumenti finanziari il cui valore non è autonomo ma deriva dal prezzo di una attività sottostante di varia natura (reale come nel caso di materie prime quali grano, oro, petrolio, ecc. , oppure finanziaria come nel caso di azioni, obbligazioni, tassi di cambio, indici, ecc.). Il termine “derivato” indica questa dipendenza.\n",
    "\n",
    "Possiamo quindi definire le opzioni come dei contratti finanziari che danno il diritto, ma non l’obbligo, all’acquirente dietro il pagamento di un prezzo (premio), di esercitare o meno la facoltà di acquistare (Call) o vendere (Put) una data quantità di una determinata attività finanziaria, detta sottostante, a una determinata data di scadenza o entro tale data e a un determinato prezzo di esercizio (strike price).\n",
    "\n",
    "Con l'acquisto di opzioni call ci si tutela perciò dal rischio che il valore del sottostante cresca oltre la propria soglia di accettazione, mentre con l'acquisto di opzioni put che scenda al costo del premio pagato per l'acquisto dello strumento.\n",
    "\n",
    "In sintesi:\n",
    "\n",
    "* Nel caso dell'acquisto di opzioni call, lo strumento garantisce un profitto linearmente crescente al crescere del prezzo del sottostante a scadenza oltre lo strike price concordato (perché permette di acquistare il sottostante ad un prezzo inferiore a quello di mercato e rivenderlo immediatamente a prezzo più alto).\n",
    "* Nel caso di acquisto di opzioni put, secondo un profitto linearmente crescente al decrescere del prezzo del sottostante al di sotto dello strike price concordato (perché permette di vendere istantaneamente a prezzo più alto il sottostante acquistabile a prezzo inferiore).\n",
    "\n",
    "In entrambi casi di dice che il contratto è _in the money_ quando il valore del sottostante rende conveniente esercitare il diritto di opzione perché il suo valore è superiore (nel caso di acquisto di opzione call) o inferiore (nel caso di acquisto di opzione put) allo strike price concordato.\n",
    "\n",
    "E' anche possibile vendere (spesso riferito come \"scrivere\" contratti, se ci si mette nei panni dell'intermediario) opzioni put e call. In questo caso, chi vende l'opzione incassa subito il potenziale profitto e si espone ad una potenziale perdita futura per compensare la controparte qualora il contratto risulti _in the money_ per l'acquirente.\n",
    "\n",
    "Per comprendere il funzionamento di questi strumenti seguono alcuni esempi."
   ]
  },
  {
   "cell_type": "markdown",
   "id": "090609e2",
   "metadata": {},
   "source": [
    "### Acquisto di opzioni call\n",
    "Ipotizziamo di voler acquistare un _opzione call_ su un titolo $\\alpha$ a mercato. Il nostro intermediario espone la seguente tabella:\n",
    "\n",
    "![Call option price table](Assets/call_price.png)\n",
    "\n",
    "Per ogni scadenza desiderata (giugno, settembre, dicembre, etc.) sono presenti le quotazioni per acquistare (\"offer\" in tabella o \"denaro\" in italiano) e per vendere (\"bid\" o \"lettera\" in italiano) in funzione dello strike price desiderato per la scadenza scelta.\n",
    "\n",
    "I prezzi listati si riferiscono ad opzioni di acquisto di una singola azione del relativo sottostante $\\alpha$.\n",
    "\n",
    "Ad esempio, se si desidera comprare il diritto di acquistare 100 azioni del sottostante $\\alpha$ al prezzo di $880\\$$ a dicembre, dovremo pagare $100 \\cdot 56.30\\$=5600\\$$ all'intermediario per acquistare la relativa opzione con queste caratteristiche.\n",
    "\n",
    "A dicembre sono possibili due scenari:\n",
    "1. il prezzo del sottostante $\\alpha$ non ha superato il valore di $880\\$$ per azione, quindi l'opzione non ha ragione di essere esercitata e l'investitore realizzerà una perdita pari al costo del derivato acquistato ($5600\\$$)\n",
    "2. il prezzo del sottostante $\\alpha$ ha superato il valore di $880\\$$ per azione, quindi l'opzione di acquisto viene esercitata e si ha il diritto di acquistare 100 azioni di $\\alpha$ per un valore, lo _strike price_, inferiore a quello di mercato. Questo comporterà un profitto se la differenza tra il prezzo del sottostante e lo _strike price_ è tale da coprire il costo sostenuto per l'acquisto nell'opzione. Nel nostro caso, se l'azione $\\alpha$ ha un valore a scadenza $\\geq 880 + 56.30 = 936.30$ l'investitore ottiene un profitto.\n",
    "\n",
    "Ipotizzando, ad esempio, che il valore dell'azione $\\alpha$ a scadenza sia pari a $940\\$$, l'investitore realizzerebbe:\n",
    "\n",
    "$$- 5600\\$ - 880\\$ \\cdot 100 + 940\\$ \\cdot 100 = - 5600\\$ - 88000\\$ + 94000\\$ = 400\\$$$\n",
    "\n",
    "L'addizione considera l'uscita di $5600\\$$ per l'acquisto dell'opzione, l'uscita di $88000\\$$ per l'acquisto delle azioni come da esercizio del diritto garantito dall'opzione e l'entrata di $94000\\$$ frutto della vendita a mercato delle azioni appena acquistate.\n",
    "\n",
    "Nel grafico a seguire una rappresentazione visuale del profitto dell'investitore in funzione della variazione di prezzo del sottostante.\n",
    "\n",
    "![Call option payoff](Assets/buy_call_payoff.png)"
   ]
  },
  {
   "cell_type": "markdown",
   "id": "6e274765",
   "metadata": {},
   "source": [
    "### Acquisto di opzioni put\n",
    "Nel caso di acquisto un _opzione put_ sul medesimo titolo $\\alpha$ a mercato, il nostro intermediario espone la seguente tabella:\n",
    "\n",
    "![Put option price table](Assets/put_price.png)\n",
    "\n",
    "Per ogni scadenza desiderata (giugno, settembre, dicembre, etc.) sono presenti le quotazioni per acquistare (\"offer\" in tabella o \"denaro\" in italiano) e per vendere (\"bid\" o \"lettera\" in italiano) in funzione dello strike price desiderato per la scadenza scelta.\n",
    "\n",
    "I prezzi listati si riferiscono ad opzioni di vendita di una singola azione del relativo sottostante $\\alpha$.\n",
    "\n",
    "Ad esempio, se si desidera acquistare il diritto a vendere 100 azioni del sottostante $\\alpha$ al prezzo di $860\\$$ a giugno, dovremo pagare $100 \\cdot 14.80\\$=1480\\$$ all'intermediario per acquistare la relativa opzione con queste caratteristiche.\n",
    "\n",
    "A giugno sono possibili due scenari:\n",
    "1. il prezzo del sottostante $\\alpha$ ha superato il valore di $860\\$$ per azione, quindi l'opzione non ha ragione di essere esercitata e l'investitore realizzerà una perdita pari al costo del derivato acquistato ($1480\\$$);\n",
    "2. il prezzo del sottostante $\\alpha$ non ha superato il valore di $860\\$$ per azione, quindi l'opzione di acquisto viene esercitata e si ha il diritto di vendere 100 azioni di $\\alpha$ per un valore, lo _strike price_, superiore a quello di mercato. Questo comporterà un profitto se la differenza tra lo _strike price_ e il prezzo del sottostante è tale da coprire il costo sostenuto per l'acquisto nell'opzione. Nel nostro caso, se l'azione $\\alpha$ ha un valore a scadenza $\\leq 860 - 14.80 = 845.20$ l'investitore ottiene un profitto.\n",
    "\n",
    "Ipotizzando, ad esempio, che il valore dell'azione $\\alpha$ a scadenza sia pari a $820\\$$, l'investitore realizzerebbe:\n",
    "\n",
    "$$- 1480\\$ - 820\\$ \\cdot 100 + 860\\$ \\cdot 100 = - 1480\\$ - 82000\\$ + 86000\\$ = 2520\\$$$\n",
    "\n",
    "L'addizione considera l'uscita di $1480\\$$ per l'acquisto dell'opzione, l'uscita di $82000\\$$ per l'acquisto delle azioni sul mercato alla data di scadenza e l'entrata di $94000\\$$ frutto della vendita immediata delle azioni appena acquistate come da esercizio del diritto garantito dall'opzione.\n",
    "\n",
    "Nel grafico a seguire una rappresentazione visuale del profitto dell'investitore in funzione della variazione di prezzo del sottostante.\n",
    "\n",
    "![Put option payoff](Assets/buy_put_payoff.png)"
   ]
  },
  {
   "cell_type": "markdown",
   "id": "724f5bc6",
   "metadata": {},
   "source": [
    "### Vendita (scrittura) di opzioni\n",
    "Nel caso di vendita (scrittura) di un _opzione put_ sul medesimo titolo $\\alpha$ a mercato, il nostro intermediario espone la seguente tabella:\n",
    "\n",
    "![Put option price table](Assets/put_price.png)\n",
    "\n",
    "Per ogni scadenza desiderata (giugno, settembre, dicembre, etc.) sono presenti le quotazioni per acquistare (\"offer\" in tabella o \"denaro\" in italiano) e per vendere (\"bid\" o \"lettera\" in italiano) in funzione dello strike price desiderato per la scadenza scelta.\n",
    "\n",
    "I prezzi listati si riferiscono ad opzioni di vendita di una singola azione del relativo sottostante $\\alpha$.\n",
    "\n",
    "Ad esempio, se si desidera vendere il diritto di vendere 100 azioni del sottostante $\\alpha$ al prezzo di $840\\$$ a settembre, incasseremo subito $100 \\cdot 31.00\\$=3100\\$$ per vendere la relativa opzione con queste caratteristiche da un certo acquirente.\n",
    "\n",
    "A settembre sono possibili due scenari:\n",
    "1. il prezzo del sottostante $\\alpha$ ha superato il valore di $840\\$$ per azione, quindi l'opzione non ha ragione di essere esercitata da parte del nostro acquirente e il denaro incassato inizialmente ($3100\\$$) dal venditore è di fatto il profitto dell'operazione;\n",
    "2. il prezzo del sottostante $\\alpha$ è sceso al di sotto del valore di $840\\$$ per azione, quindi l'opzione di acquisto viene esercitata dall'acquirente che avrà il diritto di acquistare 100 azioni di $\\alpha$ per un valore, lo _strike price_, inferiore a quello di mercato. Questo comporterà una perdita per il venditore che dovrà coprire la differenza tra il prezzo del sottostante e lo _strike price_.\n",
    "\n",
    "Ipotizzando, ad esempio, che il valore dell'azione $\\alpha$ a scadenza sia pari a $800\\$$, il venditore realizzerebbe la seguente perdita:\n",
    "\n",
    "$$- 5600\\$ - (840\\$ - 800\\$) \\cdot 100 = - 5600\\$ - 88000\\$ + 94000\\$ = 400\\$$$\n",
    "\n",
    "L'addizione considera l'entrata di $3100\\$$ per l'acquisto dell'opzione, l'uscita di $4000\\$$ per garantire all'acquirente l'esercizio dell'opzione di vendita di 100 azioni $\\alpha$ al prezzo di $840\\$$ l'una come concordato dal contratto di opzione, sebbene a mercato il titolo sia scambiato a $800\\$$ ad azione.\n",
    "\n",
    "Nel grafico a seguire una rappresentazione visuale del profitto del venditore dell'opzione put in funzione della variazione di prezzo del sottostante.\n",
    "\n",
    "![Put option payoff](Assets/sell_put_payoff.png)"
   ]
  },
  {
   "cell_type": "markdown",
   "id": "f6372c52",
   "metadata": {},
   "source": [
    "## Prezzare le opzioni attraverso simulazione Montecarlo\n",
    "Al fine di prezzare un'_opzione call_ o un'_opzione put_ emessa su un certo sottostante è necessario simulare l'evoluzione di prezzo del sottostante stesso giorno per giorno, calcolare il profitto atteso a data di scadenza e attualizzare quel valore ad oggi per determinare il prezzo del contratto.\n",
    "\n",
    "Per simulare l'evoluzione nel tempo del prezzo del sottostante si utilizzia comunemente un moto browniano geometrico discreto, dove $S_{t+dt}$ rappresenta il prezzo del sottostante al tempo $t+dt$, calcolato in funzione del prezzo dello stesso al tempo $t$ (es. al giorno precedente se $dt=$1 giorno):\n",
    "\n",
    "$$S_{t+dt} = S_t \\cdot e^{(d+a \\cdot X)}$$\n",
    "\n",
    "$X$ è una normale standard, $a = \\sigma \\cdot \\sqrt{dt}$ e $d$ è definito come il _drift_ del moto browniano: $d=\\left(\\mu-\\frac{\\sigma^2}{2}\\right)\\cdot dt$.\n",
    "\n",
    "Nell'espressione, $dt$ rappresenta l'intervallo di tempo su cui avviene l'evoluzione del prezzo.\n",
    "\n",
    "Per come è costruita, la variabile casuale $\\ln\\left(\\frac{S_{t+1}}{S_{t}}\\right)$ (equivalente al log-return della serie) ha distribuzione normale con valore atteso $\\left(\\mu-\\frac{\\sigma^2}{2}\\right)$ e varainza $\\sigma^2 \\cdot dt$"
   ]
  },
  {
   "cell_type": "markdown",
   "id": "1960a287",
   "metadata": {},
   "source": [
    "Per la finalità dell'esempio, definiamo i parametri del sottostante arbitariarmente:"
   ]
  },
  {
   "cell_type": "code",
   "execution_count": 1,
   "id": "e46fb514",
   "metadata": {},
   "outputs": [],
   "source": [
    "S = 100 # prezzo spot del sottostante\n",
    "mu = 0.07 # log return del sottostante di riferimento\n",
    "sigma = 0.2 #volatilità del sottostante"
   ]
  },
  {
   "cell_type": "markdown",
   "id": "0be5c5d1",
   "metadata": {},
   "source": [
    "Per considerare i parametri di un titolo realmente presente sul mercato, bisogna utilizzare come <code>S</code> il prezzo a cui il titolo è attualmente scambiato, come <code>mu</code> il valore medio dei log-returns dei prezzi del titolo su un certo intervallo di tempo, come <code>sigma</code> la deviazione standard dei log-returns dei prezzi del titolo sul medesimo intervallo di tempo.\n",
    "\n",
    "Ad esempio, se il sottostante fosse il titolo azionario _Starbucks_, per ottenere <code>S</code>, <code>mu</code> e <code>sigma</code> aggiornati si potrebbe eseguire la seguente cella (opzionale):"
   ]
  },
  {
   "cell_type": "code",
   "execution_count": 2,
   "id": "76c404e7",
   "metadata": {},
   "outputs": [
    {
     "name": "stdout",
     "output_type": "stream",
     "text": [
      "Parametri del sottostante per il titolo SBUX: \n",
      "\n",
      " S = 99.19999694824219\n",
      " mu = 2.634426604041189e-06\n",
      " sigma = 0.018727507258375072\n"
     ]
    }
   ],
   "source": [
    "# Opzionale: eseguire solo se si preferisce utilizzare i dati reali di un titolo online\n",
    "\n",
    "# Import delle ibrerie necessarie\n",
    "import pandas as pd\n",
    "import numpy as np\n",
    "from datetime import datetime\n",
    "import yfinance as yf\n",
    "\n",
    "# Definizione dell'intervallo di tempo\n",
    "start_date = '2021-01-01'\n",
    "end_date = datetime.today().strftime('%Y-%m-%d')\n",
    "\n",
    "# Scelta del titolo\n",
    "ticker = 'SBUX'\n",
    "\n",
    "# Download dei prezzi del titolo nell'intervallo di tempo scelto\n",
    "data = yf.download(ticker, start_date, end_date, progress=False)\n",
    "\n",
    "# Calcolo dei log-return sui prezzi di chiusura: ln(P_t/P_(t-1))\n",
    "data['Log Returns'] = np.log(data['Adj Close']) - np.log(data['Adj Close'].shift(1))\n",
    "\n",
    "# Parametri del sottostante\n",
    "S = data['Adj Close'][-1] # ultimo prezzo del sottostante\n",
    "mu = np.mean(data['Log Returns'])\n",
    "sigma = np.std(data['Log Returns'])\n",
    "\n",
    "print('Parametri del sottostante per il titolo ' + ticker + ': \\n\\n S = ' + str(S) +'\\n mu = ' + str(mu) + '\\n sigma = ' + str(sigma))"
   ]
  },
  {
   "cell_type": "markdown",
   "id": "b0e602ec",
   "metadata": {},
   "source": [
    "Parametri del contratto di opzone sul sottostante:"
   ]
  },
  {
   "cell_type": "code",
   "execution_count": 3,
   "id": "3d1dc8c3",
   "metadata": {},
   "outputs": [],
   "source": [
    "T = 1 # tempo alla scadenza (in anni)\n",
    "K = 100 # strike price"
   ]
  },
  {
   "cell_type": "markdown",
   "id": "fef2ecd0",
   "metadata": {},
   "source": [
    "Parametri della simulazione:"
   ]
  },
  {
   "cell_type": "code",
   "execution_count": 4,
   "id": "b1f08162",
   "metadata": {},
   "outputs": [],
   "source": [
    "Nsimulations = 50000\n",
    "Nsteps = 250 # numero di giorni in cui il mercato è aperto nell'anno"
   ]
  },
  {
   "cell_type": "markdown",
   "id": "915e3218",
   "metadata": {},
   "source": [
    "Calcolo degli scalari presenti nella serie $S_{t+dt}$"
   ]
  },
  {
   "cell_type": "code",
   "execution_count": 5,
   "id": "481595b4",
   "metadata": {},
   "outputs": [],
   "source": [
    "import numpy as np\n",
    "\n",
    "dt = T/Nsteps\n",
    "drift = (mu-(sigma**2)/2)*dt\n",
    "a = sigma*np.sqrt(dt)"
   ]
  },
  {
   "cell_type": "markdown",
   "id": "2b7ce87b",
   "metadata": {},
   "source": [
    "Generiamo <code>Nsteps</code> estrazioni casuali da una normale standard (una per ciascuno step evolutivo del prezzo) e ripetiamo il processo per <code>Nsimulations</code> volte:"
   ]
  },
  {
   "cell_type": "code",
   "execution_count": 6,
   "id": "c25f0237",
   "metadata": {},
   "outputs": [
    {
     "data": {
      "text/plain": [
       "array([[-0.41151724, -0.10392534, -0.86596912, ..., -0.33714879,\n",
       "         1.11836452, -0.25923735],\n",
       "       [ 0.06338655, -0.18377602, -0.85337053, ...,  0.2980442 ,\n",
       "        -1.00440522,  0.17816102],\n",
       "       [ 1.48121313,  1.2298839 , -0.06949172, ..., -0.05988123,\n",
       "         0.4673377 ,  1.97146046],\n",
       "       ...,\n",
       "       [ 0.52659084, -1.51306463,  0.73670611, ..., -0.39213209,\n",
       "        -0.08411378,  0.99892484],\n",
       "       [ 0.97648594,  0.17890666, -0.63489852, ...,  0.36190262,\n",
       "        -1.02990277, -0.42590178],\n",
       "       [-0.56363988,  1.65464072,  0.31737601, ...,  0.43036788,\n",
       "         1.13499123,  0.88066572]])"
      ]
     },
     "execution_count": 6,
     "metadata": {},
     "output_type": "execute_result"
    }
   ],
   "source": [
    "x = np.random.normal(0,1,(Nsimulations,Nsteps))\n",
    "x"
   ]
  },
  {
   "cell_type": "markdown",
   "id": "26154092",
   "metadata": {},
   "source": [
    "L'operazione di generazione di estrazioni casuali da una normale è alla radice della determinazione dell'insieme dei possibili scenari di evoluzione di prezzo del sottostante."
   ]
  },
  {
   "cell_type": "markdown",
   "id": "c73054df",
   "metadata": {},
   "source": [
    "Calcolimo iterativamente tutti i $S_{t+dt}$ steps (colonne) per ogni simulazione (righe):"
   ]
  },
  {
   "cell_type": "code",
   "execution_count": 7,
   "id": "a959bd87",
   "metadata": {},
   "outputs": [
    {
     "data": {
      "text/plain": [
       "array([[ 99.19999695,  99.1877184 ,  99.08596712, ..., 102.13241839,\n",
       "        102.26772466, 102.23625765],\n",
       "       [ 99.19999695,  99.1783379 ,  99.0780747 , ..., 101.0348028 ,\n",
       "        100.91460857, 100.93583603],\n",
       "       [ 99.19999695,  99.34453957,  99.33629441, ..., 100.91166579,\n",
       "        100.96746908, 101.20343974],\n",
       "       ...,\n",
       "       [ 99.19999695,  99.02230929,  99.10868321, ...,  98.83532689,\n",
       "         98.82541243,  98.94233936],\n",
       "       [ 99.19999695,  99.22095137,  99.14629737, ...,  97.12703957,\n",
       "         97.00856443,  96.95957367],\n",
       "       [ 99.19999695,  99.39453192,  99.43183366, ..., 100.03482465,\n",
       "        100.16932463, 100.27379531]])"
      ]
     },
     "execution_count": 7,
     "metadata": {},
     "output_type": "execute_result"
    }
   ],
   "source": [
    "Smat = np.zeros((Nsimulations,Nsteps))\n",
    "Smat[:,0] += S\n",
    "\n",
    "for i in range(1,Nsteps):\n",
    "    Smat[:,i] += Smat [:,i-1]*np.exp(drift + a*x[:,i])\n",
    "Smat"
   ]
  },
  {
   "cell_type": "markdown",
   "id": "d328ac02",
   "metadata": {},
   "source": [
    "Calcoliamo il potenziale payoff di un'_opzione call_ per ciascuna simulazione e il payoff medio di tutte le simulazioni."
   ]
  },
  {
   "cell_type": "code",
   "execution_count": 8,
   "id": "dcb2ca33",
   "metadata": {},
   "outputs": [],
   "source": [
    "q = Smat[:,-1]-K # payoff opzione call per ogni simulazione\n",
    "for i in range(len(q)): # escludiamo payoff negativi che implicano payoff = 0 \n",
    "    if q[i]<0:\n",
    "        q[i]=0\n",
    "    else:\n",
    "        q[i]=q[i]\n",
    " \n",
    "payoff_call = np.mean(q) # payoff medio considerando tutte le simulazioni"
   ]
  },
  {
   "cell_type": "markdown",
   "id": "65b776d8",
   "metadata": {},
   "source": [
    "Calcoliamo il potenziale payoff di un'_opzione put_ per ciascuna simulazione e il payoff medio di tutte le simulazioni."
   ]
  },
  {
   "cell_type": "code",
   "execution_count": 9,
   "id": "a1574e2d",
   "metadata": {},
   "outputs": [],
   "source": [
    "p = K-Smat[:,-1] # payoff opzione put per ogni simulazione\n",
    "for i in range(len(p)): # escludiamo payoff negativi che implicano payoff = 0\n",
    "    if p[i]<0:\n",
    "        p[i]=0\n",
    "    else:\n",
    "        p[i]=p[i]\n",
    "\n",
    "payoff_put = np.mean(p) # payoff medio considerando tutte le simulazioni"
   ]
  },
  {
   "cell_type": "markdown",
   "id": "b415abfb",
   "metadata": {},
   "source": [
    "Attualizzando il payoff medio per le due opzioni si ottengono i relativi prezzi ad oggi. Per effettuare l'attualizzazione possiamo utilizzare l'ipotesi di una capitalizzazione continua se il sottostante è negoziato quotidianamente:"
   ]
  },
  {
   "cell_type": "code",
   "execution_count": 10,
   "id": "d0420a99",
   "metadata": {},
   "outputs": [],
   "source": [
    "call = payoff_call*np.exp(-mu*T)\n",
    "put = payoff_put*np.exp(-mu*T)"
   ]
  },
  {
   "cell_type": "code",
   "execution_count": 11,
   "id": "82ae87f5",
   "metadata": {},
   "outputs": [
    {
     "name": "stdout",
     "output_type": "stream",
     "text": [
      "Prezzo di acquisto opzione call: 0.412983972396317\n",
      "Prezzo di acquisto opzione put: 1.2192538021345978\n"
     ]
    }
   ],
   "source": [
    "print(\"Prezzo di acquisto opzione call: \" + str(call))\n",
    "print(\"Prezzo di acquisto opzione put: \" + str(put))"
   ]
  }
 ],
 "metadata": {
  "kernelspec": {
   "display_name": "Python 3 (ipykernel)",
   "language": "python",
   "name": "python3"
  },
  "language_info": {
   "codemirror_mode": {
    "name": "ipython",
    "version": 3
   },
   "file_extension": ".py",
   "mimetype": "text/x-python",
   "name": "python",
   "nbconvert_exporter": "python",
   "pygments_lexer": "ipython3",
   "version": "3.8.10"
  }
 },
 "nbformat": 4,
 "nbformat_minor": 5
}
