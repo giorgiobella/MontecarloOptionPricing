{
 "cells": [
  {
   "cell_type": "markdown",
   "id": "6a4d43e3",
   "metadata": {},
   "source": [
    "# Prezzare le opzioni call e put attraverso una simulazione Montecarlo e breve compendio teorico di riferimento"
   ]
  },
  {
   "cell_type": "markdown",
   "id": "628d493d",
   "metadata": {},
   "source": [
    "<div style=\"text-align: right\">Giorgio Bella - 8 febbraio 2023</div>"
   ]
  },
  {
   "cell_type": "markdown",
   "id": "ed942b73",
   "metadata": {},
   "source": [
    "## Tassi d'interesse\n",
    "\n",
    "Il tasso d'interesse permette di determinare la variazione che subisce un capitale investito al tempo $T$ in un tempo successivo $T+\\Delta T$.\n",
    "\n",
    "Ad esempio, quando una banca presta del denaro ad un cliente viene fissato un tasso attraverso il quale l'importo oggetto del finanziamento viene rivalutato periodicamente finché il debito non viene estinto dal contraente.\n",
    "O ancora, se un investitore decide di comprare dei titoli di stato, è dichiarato un tasso che consente di determinare, a scadenza dell'investimento, quale sarà l'importo spettante.\n",
    "\n",
    "In tutti questi esempi la sola dichiarazione del tasso d'interesse creerebbe ambiguità, perché il suo significato dipende dal modo in cui il tasso d'interesse viene misurato.\n",
    "\n",
    "Supponendo, ad esempio, che gli interessi vengano calcolati una volta all'anno, l'investimento del capitale $C = 100€$ ad un tasso del $i=10\\%$, frutta dopo un anno il montante $M$:\n",
    "\n",
    "$$M=C\\cdot(1+i)=100€\\cdot1.1=110€$$\n",
    "\n",
    "Se gli interessi venissero però capitalizzati due volte all'anno, ipotizzando di tenere fissa la durata dell'investimento ad un anno, ogni 6 mesi andrebbe applicato $i'=\\frac{10\\%}{2}=5\\%$, costituendo quindi un montante pari a:\n",
    "\n",
    "$$M=C\\cdot(1+i')\\cdot(1+i')=C\\cdot(1+1')^2=100\\cdot1.05^2=110.25€$$\n",
    "\n",
    "Per analogia, se gli interessi venissero capitalizzati $m$ volte all'anno, si otterrebbe:\n",
    "\n",
    "$$M=C\\cdot\\left(1+\\frac{i}{m}\\right)^m$$\n",
    "\n",
    "Se l'investimento si protraesse per $n$ anni, considerano una capitalizzazione $m$ volte all'anno, si avrebbe un montate pari a:\n",
    "\n",
    "$$M=C\\cdot\\left(1+\\frac{i}{m}\\right)^{m\\cdot n}$$\n",
    "\n",
    "Risulta evidente che se la capitalizzazione degli interessi avvenisse nel continuo si avrebbe:\n",
    "\n",
    "$$M = \\lim_{m\\to +\\infty}C\\cdot\\left(1+\\frac{i}{m}\\right)^{m \\cdot n} = C\\cdot e^{i \\cdot n}$$\n",
    "\n",
    "Questo caso approssima molto bene il caso di una capitalizzazione applicata ogni giorno dell'anno e quindi questa formulazione viene largamente utilizzata per praticità di calcolo.\n",
    "\n",
    "Invertendo l'espressione, è possibile calcolare il valore attuale di un importo futuro. Nel caso nella capitalizzazione applicata $m$ volte all'anno per $n$ anni si ha:\n",
    "\n",
    "$$A=M\\cdot\\left(1+\\frac{i}{m}\\right)^{-m\\cdot n}$$\n",
    "\n",
    "E nel continuo:\n",
    "\n",
    "$$A=M\\cdot e^{-i \\cdot n}$$\n",
    "\n",
    "Nel caso specifico del problema di _Option Pricing_, questa espressione è utile perché la determinazione del prezzo del contratto derivato acquistato oggi è di fatto calcolato come il valore attuale del possibile profitto futuro."
   ]
  },
  {
   "cell_type": "markdown",
   "id": "3184de19",
   "metadata": {},
   "source": [
    "## Contratti derivati: le opzioni\n",
    "\n",
    "Le opzioni sono strumenti finanziari il cui valore non è autonomo ma deriva dal prezzo di una attività sottostante di varia natura (reale come nel caso di materie prime quali grano, oro, petrolio, ecc. , oppure finanziaria come nel caso di azioni, obbligazioni, tassi di cambio, indici, ecc.). Il termine “derivato” indica questa dipendenza.\n",
    "\n",
    "Possiamo quindi definire le opzioni come dei contratti finanziari che danno il diritto, ma non l’obbligo, all’acquirente dietro il pagamento di un prezzo (premio), di esercitare o meno la facoltà di acquistare (Call) o vendere (Put) una data quantità di una determinata attività finanziaria, detta sottostante, a una determinata data di scadenza o entro tale data e a un determinato prezzo di esercizio (strike price).\n",
    "\n",
    "Con l'acquisto di opzioni call ci si tutela perciò dal rischio che il valore del sottostante cresca oltre la propria soglia di accettazione, mentre con l'acquisto di opzioni put che scenda al costo del premio pagato per l'acquisto dello strumento.\n",
    "\n",
    "In sintesi:\n",
    "\n",
    "* Nel caso dell'acquisto di opzioni call, lo strumento garantisce un profitto linearmente crescente al crescere del prezzo del sottostante a scadenza oltre lo strike price concordato (perché permette di acquistare il sottostante ad un prezzo inferiore a quello di mercato e rivenderlo immediatamente a prezzo più alto).\n",
    "* Nel caso di acquisto di opzioni put, secondo un profitto linearmente crescente al decrescere del prezzo del sottostante al di sotto dello strike price concordato (perché permette di vendere istantaneamente a prezzo più alto il sottostante acquistabile a prezzo inferiore).\n",
    "\n",
    "In entrambi casi di dice che il contratto è _in the money_ quando il valore del sottostante rende conveniente esercitare il diritto di opzione perché il suo valore è superiore (nel caso di acquisto di opzione call) o inferiore (nel caso di acquisto di opzione put) allo strike price concordato.\n",
    "\n",
    "E' anche possibile vendere (spesso riferito come \"scrivere\" contratti, se ci si mette nei panni dell'intermediario) opzioni put e call. In questo caso, chi vende l'opzione incassa subito il potenziale profitto e si espone ad una potenziale perdita futura per compensare la controparte qualora il contratto risulti _in the money_ per l'acquirente.\n",
    "\n",
    "Per comprendere il funzionamento di questi strumenti seguono alcuni esempi."
   ]
  },
  {
   "cell_type": "markdown",
   "id": "090609e2",
   "metadata": {},
   "source": [
    "### Acquisto di opzioni call\n",
    "Ipotizziamo di voler acquistare un _opzione call_ su un titolo $\\alpha$ a mercato. Il nostro intermediario espone la seguente tabella:\n",
    "\n",
    "![Call option price table](Assets/call_price.png)\n",
    "\n",
    "Per ogni scadenza desiderata (giugno, settembre, dicembre, etc.) sono presenti le quotazioni per acquistare (\"offer\" in tabella o \"denaro\" in italiano) e per vendere (\"bid\" o \"lettera\" in italiano) in funzione dello strike price desiderato per la scadenza scelta.\n",
    "\n",
    "I prezzi listati si riferiscono ad opzioni di acquisto di una singola azione del relativo sottostante $\\alpha$.\n",
    "\n",
    "Ad esempio, se si desidera comprare il diritto di acquistare 100 azioni del sottostante $\\alpha$ al prezzo di $880\\$$ a dicembre, dovremo pagare $100 \\cdot 56.30\\$=5600\\$$ all'intermediario per acquistare la relativa opzione con queste caratteristiche.\n",
    "\n",
    "A dicembre sono possibili due scenari:\n",
    "1. il prezzo del sottostante $\\alpha$ non ha superato il valore di $880\\$$ per azione, quindi l'opzione non ha ragione di essere esercitata e l'investitore realizzerà una perdita pari al costo del derivato acquistato ($5600\\$$)\n",
    "2. il prezzo del sottostante $\\alpha$ ha superato il valore di $880\\$$ per azione, quindi l'opzione di acquisto viene esercitata e si ha il diritto di acquistare 100 azioni di $\\alpha$ per un valore, lo _strike price_, inferiore a quello di mercato. Questo comporterà un profitto se la differenza tra il prezzo del sottostante e lo _strike price_ è tale da coprire il costo sostenuto per l'acquisto nell'opzione. Nel nostro caso, se l'azione $\\alpha$ ha un valore a scadenza $\\geq 880 + 56.30 = 936.30$ l'investitore ottiene un profitto.\n",
    "\n",
    "Ipotizzando, ad esempio, che il valore dell'azione $\\alpha$ a scadenza sia pari a $940\\$$, l'investitore realizzerebbe:\n",
    "\n",
    "$$- 5600\\$ - 880\\$ \\cdot 100 + 940\\$ \\cdot 100 = - 5600\\$ - 88000\\$ + 94000\\$ = 400\\$$$\n",
    "\n",
    "L'addizione considera l'uscita di $5600\\$$ per l'acquisto dell'opzione, l'uscita di $88000\\$$ per l'acquisto delle azioni come da esercizio del diritto garantito dall'opzione e l'entrata di $94000\\$$ frutto della vendita a mercato delle azioni appena acquistate.\n",
    "\n",
    "Nel grafico a seguire una rappresentazione visuale del profitto dell'investitore in funzione della variazione di prezzo del sottostante.\n",
    "\n",
    "![Call option payoff](Assets/buy_call_payoff.png)"
   ]
  },
  {
   "cell_type": "markdown",
   "id": "6e274765",
   "metadata": {},
   "source": [
    "### Acquisto di opzioni put\n",
    "Nel caso di acquisto un _opzione put_ sul medesimo titolo $\\alpha$ a mercato, il nostro intermediario espone la seguente tabella:\n",
    "\n",
    "![Put option price table](Assets/put_price.png)\n",
    "\n",
    "Per ogni scadenza desiderata (giugno, settembre, dicembre, etc.) sono presenti le quotazioni per acquistare (\"offer\" in tabella o \"denaro\" in italiano) e per vendere (\"bid\" o \"lettera\" in italiano) in funzione dello strike price desiderato per la scadenza scelta.\n",
    "\n",
    "I prezzi listati si riferiscono ad opzioni di vendita di una singola azione del relativo sottostante $\\alpha$.\n",
    "\n",
    "Ad esempio, se si desidera acquistare il diritto a vendere 100 azioni del sottostante $\\alpha$ al prezzo di $860\\$$ a giugno, dovremo pagare $100 \\cdot 14.80\\$=1480\\$$ all'intermediario per acquistare la relativa opzione con queste caratteristiche.\n",
    "\n",
    "A giugno sono possibili due scenari:\n",
    "1. il prezzo del sottostante $\\alpha$ ha superato il valore di $860\\$$ per azione, quindi l'opzione non ha ragione di essere esercitata e l'investitore realizzerà una perdita pari al costo del derivato acquistato ($1480\\$$);\n",
    "2. il prezzo del sottostante $\\alpha$ non ha superato il valore di $860\\$$ per azione, quindi l'opzione di acquisto viene esercitata e si ha il diritto di vendere 100 azioni di $\\alpha$ per un valore, lo _strike price_, superiore a quello di mercato. Questo comporterà un profitto se la differenza tra lo _strike price_ e il prezzo del sottostante è tale da coprire il costo sostenuto per l'acquisto nell'opzione. Nel nostro caso, se l'azione $\\alpha$ ha un valore a scadenza $\\leq 860 - 14.80 = 845.20$ l'investitore ottiene un profitto.\n",
    "\n",
    "Ipotizzando, ad esempio, che il valore dell'azione $\\alpha$ a scadenza sia pari a $820\\$$, l'investitore realizzerebbe:\n",
    "\n",
    "$$- 1480\\$ - 820\\$ \\cdot 100 + 860\\$ \\cdot 100 = - 1480\\$ - 82000\\$ + 86000\\$ = 2520\\$$$\n",
    "\n",
    "L'addizione considera l'uscita di $1480\\$$ per l'acquisto dell'opzione, l'uscita di $82000\\$$ per l'acquisto delle azioni sul mercato alla data di scadenza e l'entrata di $94000\\$$ frutto della vendita immediata delle azioni appena acquistate come da esercizio del diritto garantito dall'opzione.\n",
    "\n",
    "Nel grafico a seguire una rappresentazione visuale del profitto dell'investitore in funzione della variazione di prezzo del sottostante.\n",
    "\n",
    "![Put option payoff](Assets/buy_put_payoff.png)"
   ]
  },
  {
   "cell_type": "markdown",
   "id": "724f5bc6",
   "metadata": {},
   "source": [
    "### Vendita (scrittura) di opzioni\n",
    "Nel caso di vendita (scrittura) di un _opzione put_ sul medesimo titolo $\\alpha$ a mercato, il nostro intermediario espone la seguente tabella:\n",
    "\n",
    "![Put option price table](Assets/put_price.png)\n",
    "\n",
    "Per ogni scadenza desiderata (giugno, settembre, dicembre, etc.) sono presenti le quotazioni per acquistare (\"offer\" in tabella o \"denaro\" in italiano) e per vendere (\"bid\" o \"lettera\" in italiano) in funzione dello strike price desiderato per la scadenza scelta.\n",
    "\n",
    "I prezzi listati si riferiscono ad opzioni di vendita di una singola azione del relativo sottostante $\\alpha$.\n",
    "\n",
    "Ad esempio, se si desidera vendere il diritto di vendere 100 azioni del sottostante $\\alpha$ al prezzo di $840\\$$ a settembre, incasseremo subito $100 \\cdot 31.00\\$=3100\\$$ per vendere la relativa opzione con queste caratteristiche da un certo acquirente.\n",
    "\n",
    "A settembre sono possibili due scenari:\n",
    "1. il prezzo del sottostante $\\alpha$ ha superato il valore di $840\\$$ per azione, quindi l'opzione non ha ragione di essere esercitata da parte del nostro acquirente e il denaro incassato inizialmente ($3100\\$$) dal venditore è di fatto il profitto dell'operazione;\n",
    "2. il prezzo del sottostante $\\alpha$ è sceso al di sotto del valore di $840\\$$ per azione, quindi l'opzione di acquisto viene esercitata dall'acquirente che avrà il diritto di acquistare 100 azioni di $\\alpha$ per un valore, lo _strike price_, inferiore a quello di mercato. Questo comporterà una perdita per il venditore che dovrà coprire la differenza tra il prezzo del sottostante e lo _strike price_.\n",
    "\n",
    "Ipotizzando, ad esempio, che il valore dell'azione $\\alpha$ a scadenza sia pari a $800\\$$, il venditore realizzerebbe la seguente perdita:\n",
    "\n",
    "$$- 5600\\$ - (840\\$ - 800\\$) \\cdot 100 = - 5600\\$ - 88000\\$ + 94000\\$ = -400\\$$$\n",
    "\n",
    "L'addizione considera l'entrata di $3100\\$$ per l'acquisto dell'opzione, l'uscita di $4000\\$$ per garantire all'acquirente l'esercizio dell'opzione di vendita di 100 azioni $\\alpha$ al prezzo di $840\\$$ l'una come concordato dal contratto di opzione, sebbene a mercato il titolo sia scambiato a $800\\$$ ad azione.\n",
    "\n",
    "Nel grafico a seguire una rappresentazione visuale del profitto del venditore dell'opzione put in funzione della variazione di prezzo del sottostante.\n",
    "\n",
    "![Put option payoff](Assets/sell_put_payoff.png)"
   ]
  },
  {
   "cell_type": "markdown",
   "id": "f6372c52",
   "metadata": {},
   "source": [
    "## Prezzare le opzioni attraverso simulazione Montecarlo\n",
    "Al fine di prezzare un'_opzione call_ o un'_opzione put_ emessa su un certo sottostante è necessario simulare l'evoluzione di prezzo del sottostante stesso giorno per giorno, calcolare il profitto atteso a data di scadenza e attualizzare quel valore ad oggi per determinare il prezzo del contratto.\n",
    "\n",
    "Per simulare l'evoluzione nel tempo del prezzo del sottostante si utilizzia comunemente un moto browniano geometrico discreto, dove $S_{t+dt}$ rappresenta il prezzo del sottostante al tempo $t+dt$, calcolato in funzione del prezzo dello stesso al tempo $t$ (es. al giorno precedente se $dt=$1 giorno):\n",
    "\n",
    "$$S_{t+dt} = S_t \\cdot e^{(d+a \\cdot X)}$$\n",
    "\n",
    "$X$ è una normale standard, $a = \\sigma \\cdot \\sqrt{dt}$ e $d$ è definito come il _drift_ del moto browniano: $d=\\left(\\mu-\\frac{\\sigma^2}{2}\\right)\\cdot dt$.\n",
    "\n",
    "Nell'espressione, $dt$ rappresenta l'intervallo di tempo su cui avviene l'evoluzione del prezzo.\n",
    "\n",
    "Per come è costruita, la variabile casuale $\\ln\\left(\\frac{S_{t+1}}{S_{t}}\\right)$ (equivalente al log-return della serie) ha distribuzione normale con valore atteso $\\left(\\mu-\\frac{\\sigma^2}{2}\\right)$ e varainza $\\sigma^2 \\cdot dt$"
   ]
  },
  {
   "cell_type": "markdown",
   "id": "1960a287",
   "metadata": {},
   "source": [
    "Per la finalità dell'esempio, definiamo i parametri del sottostante arbitariarmente:"
   ]
  },
  {
   "cell_type": "code",
   "execution_count": 1,
   "id": "e46fb514",
   "metadata": {},
   "outputs": [],
   "source": [
    "S = 100 # prezzo spot del sottostante\n",
    "mu = 0.07 # log return del sottostante di riferimento\n",
    "sigma = 0.2 #volatilità del sottostante\n",
    "r = 0.04 # tasso risk-free di mercato (es. US Treasury)"
   ]
  },
  {
   "cell_type": "markdown",
   "id": "0be5c5d1",
   "metadata": {},
   "source": [
    "Per considerare i parametri di un titolo realmente presente sul mercato, bisogna utilizzare come <code>S</code> il prezzo a cui il titolo è attualmente scambiato, come <code>mu</code> il valore medio dei log-returns dei prezzi del titolo su un certo intervallo di tempo, come <code>sigma</code> la deviazione standard dei log-returns dei prezzi del titolo sul medesimo intervallo di tempo.\n",
    "\n",
    "Ad esempio, se il sottostante fosse il titolo azionario _Starbucks_, per ottenere <code>S</code>, <code>mu</code> e <code>sigma</code> aggiornati si potrebbe eseguire la seguente cella (opzionale):"
   ]
  },
  {
   "cell_type": "code",
   "execution_count": 2,
   "id": "76c404e7",
   "metadata": {},
   "outputs": [
    {
     "name": "stdout",
     "output_type": "stream",
     "text": [
      "Parametri del sottostante per il titolo SBUX: \n",
      "\n",
      " S = 106.83000183105469\n",
      " mu = 0.00014311821959350594\n",
      " sigma = 0.01859033135480483\n"
     ]
    }
   ],
   "source": [
    "# Opzionale: eseguire solo se si preferisce utilizzare i dati reali di un titolo\n",
    "\n",
    "# Import delle ibrerie necessarie\n",
    "import pandas as pd\n",
    "import numpy as np\n",
    "from datetime import datetime\n",
    "import yfinance as yf\n",
    "\n",
    "# Definizione dell'intervallo di tempo\n",
    "start_date = '2021-01-01'\n",
    "end_date = datetime.today().strftime('%Y-%m-%d')\n",
    "\n",
    "# Scelta del titolo\n",
    "ticker = 'SBUX'\n",
    "\n",
    "# Download dei prezzi del titolo nell'intervallo di tempo scelto\n",
    "data = yf.download(ticker, start_date, end_date, progress=False)\n",
    "\n",
    "# Calcolo dei log-return sui prezzi di chiusura: ln(P_t/P_(t-1))\n",
    "data['Log Returns'] = np.log(data['Adj Close']/data['Adj Close'].shift(1))\n",
    "\n",
    "# Parametri del sottostante\n",
    "S = data['Adj Close'][-1] # ultimo prezzo del sottostante\n",
    "mu = np.mean(data['Log Returns'])\n",
    "sigma = np.std(data['Log Returns'])\n",
    "\n",
    "print('Parametri del sottostante per il titolo ' + ticker + ': \\n\\n S = '\n",
    "      + str(S) +'\\n mu = ' + str(mu) + '\\n sigma = ' + str(sigma))"
   ]
  },
  {
   "cell_type": "markdown",
   "id": "b0e602ec",
   "metadata": {},
   "source": [
    "Parametri del contratto di opzone sul sottostante:"
   ]
  },
  {
   "cell_type": "code",
   "execution_count": 3,
   "id": "3d1dc8c3",
   "metadata": {},
   "outputs": [],
   "source": [
    "T = 1 # tempo alla scadenza (in anni)\n",
    "K = 100 # strike price"
   ]
  },
  {
   "cell_type": "markdown",
   "id": "fef2ecd0",
   "metadata": {},
   "source": [
    "Parametri della simulazione:"
   ]
  },
  {
   "cell_type": "code",
   "execution_count": 4,
   "id": "b1f08162",
   "metadata": {},
   "outputs": [],
   "source": [
    "Nsimulations = 5000\n",
    "Nsteps = 250 # numero di giorni in cui il mercato è aperto nell'anno"
   ]
  },
  {
   "cell_type": "markdown",
   "id": "915e3218",
   "metadata": {},
   "source": [
    "Calcolo degli scalari presenti nella serie $S_{t+dt}$"
   ]
  },
  {
   "cell_type": "code",
   "execution_count": 5,
   "id": "481595b4",
   "metadata": {},
   "outputs": [],
   "source": [
    "import numpy as np\n",
    "\n",
    "dt = 1/Nsteps\n",
    "drift = (mu-(sigma**2)/2)*dt # è possibile utilizzare r o mu in funzione delle assunzioni\n",
    "a = sigma*np.sqrt(dt)"
   ]
  },
  {
   "cell_type": "markdown",
   "id": "2b7ce87b",
   "metadata": {},
   "source": [
    "Generiamo <code>Nsteps</code> estrazioni casuali da una normale standard (una per ciascuno step evolutivo del prezzo) e ripetiamo il processo per <code>Nsimulations</code> volte:"
   ]
  },
  {
   "cell_type": "code",
   "execution_count": 6,
   "id": "c25f0237",
   "metadata": {},
   "outputs": [
    {
     "data": {
      "text/plain": [
       "array([[ 0.05278818,  0.3891168 ,  0.09742248, ..., -0.798011  ,\n",
       "         1.86768373,  0.14077181],\n",
       "       [-0.73406634, -0.67694729,  1.91473632, ...,  1.54089128,\n",
       "         1.09574991,  2.16050215],\n",
       "       [-1.05631708, -0.45364125, -0.81670937, ..., -0.83757507,\n",
       "         1.0718465 ,  2.00691619],\n",
       "       ...,\n",
       "       [-1.73493091,  0.7636465 , -0.35166175, ...,  0.74948523,\n",
       "         0.73481986,  0.13185653],\n",
       "       [ 0.27800061, -0.70558393, -0.41372162, ...,  1.63587255,\n",
       "        -0.11837498,  0.1644369 ],\n",
       "       [-1.27003488,  0.56271206,  1.16358158, ..., -1.30922309,\n",
       "        -0.06232114,  0.1859312 ]])"
      ]
     },
     "execution_count": 6,
     "metadata": {},
     "output_type": "execute_result"
    }
   ],
   "source": [
    "x = np.random.normal(0,1,(Nsimulations,Nsteps))\n",
    "x"
   ]
  },
  {
   "cell_type": "markdown",
   "id": "26154092",
   "metadata": {},
   "source": [
    "L'operazione di generazione di estrazioni casuali da una normale è alla radice della determinazione dell'insieme dei possibili scenari di evoluzione di prezzo del sottostante."
   ]
  },
  {
   "cell_type": "markdown",
   "id": "c73054df",
   "metadata": {},
   "source": [
    "Calcolimo iterativamente tutti i $S_{t+dt}$ steps (colonne) per ogni simulazione (righe):"
   ]
  },
  {
   "cell_type": "code",
   "execution_count": 7,
   "id": "a959bd87",
   "metadata": {
    "scrolled": true
   },
   "outputs": [
    {
     "data": {
      "text/plain": [
       "array([[106.83000183, 106.87887573, 106.89110618, ..., 104.41639839,\n",
       "        104.64593005, 104.66323935],\n",
       "       [106.83000183, 106.74499435, 106.98556334, ..., 108.46876283,\n",
       "        108.60858402, 108.88481182],\n",
       "       [106.83000183, 106.77302429, 106.67053196, ..., 110.8022712 ,\n",
       "        110.94198237, 111.20406177],\n",
       "       ...,\n",
       "       [106.83000183, 106.92595079, 106.88173674, ..., 106.37226705,\n",
       "        106.46419643, 106.48069033],\n",
       "       [106.83000183, 106.74140034, 106.68947748, ..., 109.84870319,\n",
       "        109.83340247, 109.85462641],\n",
       "       [106.83000183, 106.90069253, 107.04702944, ..., 107.46398059,\n",
       "        107.45609376, 107.47957451]])"
      ]
     },
     "execution_count": 7,
     "metadata": {},
     "output_type": "execute_result"
    }
   ],
   "source": [
    "Smat = np.zeros((Nsimulations,Nsteps))\n",
    "Smat[:,0] += S\n",
    "\n",
    "for i in range(1,Nsteps):\n",
    "    Smat[:,i] += Smat [:,i-1]*np.exp(drift + a*x[:,i])\n",
    "Smat"
   ]
  },
  {
   "cell_type": "markdown",
   "id": "b0652fa4",
   "metadata": {},
   "source": [
    "Abbiamo così simulato <code>Nsimulations</code> possibili traiettorie evolutive del prezzo del sottostante, visivalmente:"
   ]
  },
  {
   "cell_type": "code",
   "execution_count": 8,
   "id": "6ce0f429",
   "metadata": {},
   "outputs": [
    {
     "data": {
      "image/png": "[encoded data removed]",
      "text/plain": [
       "<Figure size 432x288 with 1 Axes>"
      ]
     },
     "metadata": {
      "needs_background": "light"
     },
     "output_type": "display_data"
    }
   ],
   "source": [
    "import matplotlib.pyplot as plt\n",
    "for i in range(Nsimulations):\n",
    "    plt.plot(Smat[i,:])"
   ]
  },
  {
   "cell_type": "markdown",
   "id": "d328ac02",
   "metadata": {},
   "source": [
    "Calcoliamo il potenziale payoff di un'_opzione call_ per ciascuna simulazione e il payoff medio di tutte le simulazioni."
   ]
  },
  {
   "cell_type": "code",
   "execution_count": 9,
   "id": "dcb2ca33",
   "metadata": {},
   "outputs": [],
   "source": [
    "q = Smat[:,-1]-K # payoff opzione call per ogni simulazione\n",
    "for i in range(len(q)): # escludiamo payoff negativi che implicano payoff = 0 \n",
    "    if q[i]<0:\n",
    "        q[i]=0\n",
    "    else:\n",
    "        q[i]=q[i]\n",
    " \n",
    "payoff_call = np.mean(q) # payoff medio considerando tutte le simulazioni"
   ]
  },
  {
   "cell_type": "markdown",
   "id": "65b776d8",
   "metadata": {},
   "source": [
    "Calcoliamo il potenziale payoff di un'_opzione put_ per ciascuna simulazione e il payoff medio di tutte le simulazioni."
   ]
  },
  {
   "cell_type": "code",
   "execution_count": 10,
   "id": "a1574e2d",
   "metadata": {},
   "outputs": [],
   "source": [
    "p = K-Smat[:,-1] # payoff opzione put per ogni simulazione\n",
    "for i in range(len(p)): # escludiamo payoff negativi che implicano payoff = 0\n",
    "    if p[i]<0:\n",
    "        p[i]=0\n",
    "    else:\n",
    "        p[i]=p[i]\n",
    "\n",
    "payoff_put = np.mean(p) # payoff medio considerando tutte le simulazioni"
   ]
  },
  {
   "cell_type": "markdown",
   "id": "b415abfb",
   "metadata": {},
   "source": [
    "Attualizzando il payoff medio per le due opzioni si ottengono i relativi prezzi ad oggi. Per effettuare l'attualizzazione possiamo considerare l'ipotesi di una capitalizzazione continua, se il sottostante è negoziato quotidianamente, utilizzando come tasso di attualizzazione un tasso risk-free <code>r</code> di mercato (es. US Tresury):"
   ]
  },
  {
   "cell_type": "code",
   "execution_count": 11,
   "id": "d0420a99",
   "metadata": {},
   "outputs": [],
   "source": [
    "call = payoff_call*np.exp(-mu*T) # è possibile utilizzare r o mu in funzione delle assunzioni\n",
    "put = payoff_put*np.exp(-mu*T) # è possibile utilizzare r o mu in funzione delle assunzioni"
   ]
  },
  {
   "cell_type": "code",
   "execution_count": 12,
   "id": "82ae87f5",
   "metadata": {},
   "outputs": [
    {
     "name": "stdout",
     "output_type": "stream",
     "text": [
      "Prezzo di acquisto opzione call: 6.854733373172703\n",
      "Prezzo di acquisto opzione put: 5.692538795024403e-05\n"
     ]
    }
   ],
   "source": [
    "print(\"Prezzo di acquisto opzione call: \" + str(call))\n",
    "print(\"Prezzo di acquisto opzione put: \" + str(put))"
   ]
  },
  {
   "cell_type": "markdown",
   "id": "bb45ad45",
   "metadata": {},
   "source": [
    "## Confronto pricing effetuato con Black-Scholes\n",
    "Il modello di Black-Scholes è considerato uno dei migliori modi per determinare il fair price delle opzioni europee. Richiede le medesime variabili già utilizzate nel caso Montecarlo: il prezzo spot (attuale) del sottostante, la sua volatilità, la durata dell'opzione, il suo strike price e un tasso di attualizzazione di riferimento (es. US Treasury, il rendimento del sottostante, ecc.).\n",
    "\n",
    "Nel caso dell'opzione europea call si ha:\n",
    "\n",
    "$$C=N(d_1)S_t-N(d_2)Ke^{-rT}$$\n",
    "\n",
    "<p style=\"text-align: center;\">dove $d_1=\\frac{\\ln \\frac{S}{K}+\\left(r+\\frac{\\sigma^2}{2}\\right)T}{\\sigma \\sqrt{T}}$</p>\n",
    "<p style=\"text-align: center;\">e $d_2=d_1-\\sigma\\sqrt{T}$</p>\n",
    "\n",
    "Ed è possibile definire il prezzo della put su medesimo sottostante, durata e strike price come:\n",
    "\n",
    "$$P=K e^{-rT}-S+C$$\n",
    "\n",
    "Dove:\n",
    "\n",
    "$C=$ prezzo dell'opzione call<br>\n",
    "$P=$ prezzo dell'opzione put<br>\n",
    "$N=$ funzione di ripartizione di una normale standard<br>\n",
    "$S=$ prezzo spot del sottostante<br>\n",
    "$\\sigma=$ volatilità del sottostante<br>\n",
    "$K=$ strike price<br>\n",
    "$r=$ tasso di attualizzazione di riferimento<br>\n",
    "$T=$ durata dell'opzione<br>\n",
    "\n",
    "Utilizziamo, per confronto, i medesimi parametri utilizzati nel caso Montecarlo:"
   ]
  },
  {
   "cell_type": "code",
   "execution_count": 13,
   "id": "150291d0",
   "metadata": {},
   "outputs": [
    {
     "name": "stdout",
     "output_type": "stream",
     "text": [
      " K =  100 \n",
      " r =  0.04 \n",
      " T =  1 \n",
      " S =  106.83000183105469 \n",
      " mu =  0.00014311821959350594 \n",
      " sigma =  0.01859033135480483\n"
     ]
    }
   ],
   "source": [
    "print(' K = ',K,\"\\n\",\"r = \",r,\"\\n\",\"T = \",T,\"\\n\",\"S = \",S,\"\\n\",\"mu = \",mu,\"\\n\",\"sigma = \",sigma)"
   ]
  },
  {
   "cell_type": "markdown",
   "id": "eab09f60",
   "metadata": {},
   "source": [
    "E calcoliamo il prezzo dell'opzione utilizzando BS:"
   ]
  },
  {
   "cell_type": "code",
   "execution_count": 14,
   "id": "ad2175f9",
   "metadata": {},
   "outputs": [
    {
     "name": "stdout",
     "output_type": "stream",
     "text": [
      "Prezzo di acquisto opzione call:  6.844400409917355\n",
      "Prezzo di acquisto opzione put:  8.778099569894948e-05\n"
     ]
    }
   ],
   "source": [
    "import numpy as np\n",
    "import math\n",
    "from scipy.stats import norm\n",
    "\n",
    "def d1(S,K,r,sigma,T):\n",
    "    return (np.log(S/K)+(r+0.5*sigma**2)*T)/(sigma*np.sqrt(T))\n",
    "\n",
    "def d2(S,K,r,sigma,T):\n",
    "    return d1(S,K,r,sigma,T) - sigma * np.sqrt(T)\n",
    "\n",
    "def blackScholesCallPrice(S,K,r,sigma,T):\n",
    "    d1_val = d1(S,K,r,sigma,T)\n",
    "    d2_val = d2(S,K,r,sigma,T)\n",
    "    call_price = S*norm.cdf(d1_val) - K*np.exp(-r*T)*norm.cdf(d2_val)\n",
    "    return call_price\n",
    "\n",
    "def blackScholesPutPrice(S,K,r,sigma,T):\n",
    "    d1_val = d1(S,K,r,sigma,T)\n",
    "    d2_val = d2(S,K,r,sigma,T)\n",
    "    put_price = K*np.exp(-r*T)-S+blackScholesCallPrice(S,K,r,sigma,T)\n",
    "    return put_price\n",
    "\n",
    "# è possibile utilizzare r o mu in funzione delle assunzioni\n",
    "priceCall = blackScholesCallPrice(S,K,mu,sigma,T)\n",
    "pricePut = blackScholesPutPrice(S,K,mu,sigma,T)\n",
    "\n",
    "print(\"Prezzo di acquisto opzione call: \", priceCall)\n",
    "print(\"Prezzo di acquisto opzione put: \", pricePut)"
   ]
  },
  {
   "cell_type": "markdown",
   "id": "5d20406c",
   "metadata": {},
   "source": [
    "## Caso di opzioni basate su più sottostanti\n",
    "Nel caso in cui l'opzione sia più complessa ed il contratto preveda dei payoff basati su più di un sottostante, il procedimento generale resta invariato, al netto di generalizzare la costruzione del moto browniano generatore dei diversi scenari.\n",
    "\n",
    "Riprendendo il caso monovariato utilizzato nel paragrafo precedente, definiamo il moto browniano geometrico multivariato (ip. n-variato) $\\bar{S}_{t+dt}$, dove $\\bar{S}$ è un vettore di cardinalità $n$ che rappresenta i prezzi degli $n$ sottostanti nei diversi tempi $t+dt$.\n",
    "\n",
    "$$\\bar{S}_{t+dt} = \\bar{S}_t \\cdot e^{(\\bar{d}+a \\cdot \\bar{X})}$$\n",
    "\n",
    "$\\bar{X}$ è una normale n-variata standard, $\\bar{a} = \\bar{\\sigma} \\cdot \\sqrt{dt}$ e $\\bar{d}$ è definito come il _drift_ del moto browniano: $\\bar{d}=\\left(\\bar{\\mu}-\\frac{\\bar{\\sigma}^2}{2}\\right)\\cdot dt$.\n",
    "\n",
    "Nell'espressione, $dt$ rappresenta l'intervallo di tempo su cui avviene l'evoluzione del prezzo.\n",
    "\n",
    "Per ottenere $\\bar{X}$ è possibile applicare la decomposizione di Cholesky alla matrice di covarianza dei sottostanti che permette così di ottenere variabili casuali correlate a partire da distribuzioni indiopendenti (che possiamo inferire individualmente dalle timeseries dei singoli sottostanti).\n",
    "\n",
    "Partiamo dal considerare alcuni titoli sul Nasdaq e ottenere lo storico dei loro prezzi per ricavare:\n",
    "\n",
    "* <code>S0</code> il vettore con gli ultimi prezzi dei titoli (base di partenza a T=0 per la nostra simulazione)\n",
    "* <code>mu</code> il vettore delle medie dei log-return dei sottostanti considerati\n",
    "* <code>sigma</code> il vettore delle deviazioni standard di ciascuno dei titoli\n",
    "* <code>cov_matrix</code> la matrice di covarianza"
   ]
  },
  {
   "cell_type": "code",
   "execution_count": 15,
   "id": "5e6c4ade",
   "metadata": {},
   "outputs": [
    {
     "name": "stdout",
     "output_type": "stream",
     "text": [
      "Parametri dei sottostanti ['MSFT', 'AAPL', 'GOOG']: \n",
      "\n",
      "S0 = [154.6499939  108.04000092 267.55999756]\n",
      "mu = [0.00036074 0.00042386 0.00042494]\n",
      "sigma = [0.01933183 0.02062958 0.01854508]\n",
      "cov_matrix = \n",
      "          AAPL      GOOG      MSFT\n",
      "AAPL  0.000374  0.000282  0.000274\n",
      "GOOG  0.000282  0.000426  0.000311\n",
      "MSFT  0.000274  0.000311  0.000345\n"
     ]
    }
   ],
   "source": [
    "# Import delle ibrerie necessarie\n",
    "import pandas as pd\n",
    "import numpy as np\n",
    "from datetime import datetime\n",
    "import yfinance as yf\n",
    "\n",
    "# Definizione dell'intervallo di tempo\n",
    "start_date = '2021-01-01'\n",
    "end_date = datetime.today().strftime('%Y-%m-%d')\n",
    "\n",
    "# Scelta dei titoli\n",
    "ticker = ['MSFT','AAPL','GOOG']\n",
    "S0 = np.zeros(len(ticker))\n",
    "mu = np.zeros(len(ticker))\n",
    "sigma = np.zeros(len(ticker))\n",
    "logRetSeries = np.zeros([len(ticker),])\n",
    "\n",
    "# Download dei prezzi dei titolo nell'intervallo di tempo scelto\n",
    "data = yf.download(ticker, start_date, end_date, progress=False)\n",
    "\n",
    "# Calcolo dei log-return sui prezzi di chiusura: ln(P_t/P_(t-1))\n",
    "returns = np.log(data['Adj Close']/data['Adj Close'].shift(1))\n",
    "\n",
    "# Parametri dei sottostanti\n",
    "for i in range(len(ticker)):\n",
    "    S0[i] = data['Adj Close'].iloc[:, i][-1] # ultimo prezzo del sottostante\n",
    "    mu[i] = np.mean(returns.iloc[:, i]) # media log-returns\n",
    "    sigma[i] = np.std(returns.iloc[:, i]) # dev-std log-returns\n",
    "\n",
    "cov_matrix = returns.cov()\n",
    "\n",
    "print('Parametri dei sottostanti ' + str(ticker) + ': \\n\\nS0 = '\n",
    "      + str(S0) +'\\nmu = ' + str(mu) + '\\nsigma = ' + str(sigma) + \n",
    "      '\\ncov_matrix = \\n' + str(cov_matrix))"
   ]
  },
  {
   "cell_type": "markdown",
   "id": "2ca9e8a6",
   "metadata": {},
   "source": [
    "Parametri del contratto di opzone:"
   ]
  },
  {
   "cell_type": "code",
   "execution_count": 16,
   "id": "12f141c2",
   "metadata": {},
   "outputs": [
    {
     "name": "stdout",
     "output_type": "stream",
     "text": [
      "Scadenza derivato (anni) = 1\n",
      "Strike price basket option = 530.2499923706055\n",
      "Strike price rainbow option = 267.55999755859375\n"
     ]
    }
   ],
   "source": [
    "T = 1 # tempo alla scadenza (in anni)\n",
    "K = np.sum(S0) # strike price basket option\n",
    "Kr = max(S0) # strike price rainbow option\n",
    "\n",
    "print('Scadenza derivato (anni) = ' + str(T) + \n",
    "      '\\nStrike price basket option = ' + str(K) + \n",
    "      '\\nStrike price rainbow option = ' + str(Kr))"
   ]
  },
  {
   "cell_type": "markdown",
   "id": "866f5248",
   "metadata": {},
   "source": [
    "Parametri della simulazione:"
   ]
  },
  {
   "cell_type": "code",
   "execution_count": 17,
   "id": "58b4c88c",
   "metadata": {},
   "outputs": [],
   "source": [
    "Nsimulations = 5000\n",
    "Nsteps = 250 # numero di giorni in cui il mercato è aperto nell'anno\n",
    "dt = 1/Nsteps\n",
    "r = 0.05 # tasso di attualizzazione di riferimento (es. US Treasury)"
   ]
  },
  {
   "cell_type": "markdown",
   "id": "7bc0fa8f",
   "metadata": {},
   "source": [
    "Effettuiamo la decomposizione di Cholesky:"
   ]
  },
  {
   "cell_type": "code",
   "execution_count": 18,
   "id": "77548814",
   "metadata": {},
   "outputs": [],
   "source": [
    "cholesky = np.linalg.cholesky(cov_matrix)"
   ]
  },
  {
   "cell_type": "markdown",
   "id": "23e28756",
   "metadata": {},
   "source": [
    "Generiamo delle estrazioni normali indipendenti che modifichiamo tramite prodotto con la matrice di Cholesky in estrazioni normali multivariate:"
   ]
  },
  {
   "cell_type": "code",
   "execution_count": 19,
   "id": "9bfcb73e",
   "metadata": {},
   "outputs": [],
   "source": [
    "X = np.random.normal(size=(Nsimulations, T*Nsteps, len(ticker)))\n",
    "X = np.dot(X, cholesky)"
   ]
  },
  {
   "cell_type": "code",
   "execution_count": 20,
   "id": "6ba3cea3",
   "metadata": {},
   "outputs": [],
   "source": [
    "S = np.zeros((Nsimulations, T*Nsteps, len(ticker)))\n",
    "S[:,0] = S0"
   ]
  },
  {
   "cell_type": "code",
   "execution_count": 21,
   "id": "07c857aa",
   "metadata": {},
   "outputs": [],
   "source": [
    "for i in range(1, int(T*Nsteps)):\n",
    "    for j in range(len(ticker)):\n",
    "        S[:, i, j] = S[:, i - 1, j] * np.exp((mu[j] - 0.5 * sigma[j] ** 2) * dt + sigma[j] * np.sqrt(dt) * X[:, i-1, j])\n"
   ]
  },
  {
   "cell_type": "markdown",
   "id": "269745a9",
   "metadata": {},
   "source": [
    "<code>S</code> è un array di <code>Nsimulations</code> matrici, in cui ogni matrice riporta i prezzi di tutti i sottostanti in ogni istante di tempo."
   ]
  },
  {
   "cell_type": "code",
   "execution_count": 22,
   "id": "d81cfe67",
   "metadata": {},
   "outputs": [
    {
     "name": "stdout",
     "output_type": "stream",
     "text": [
      "[[[154.6499939  108.04000092 267.55999756]\n",
      "  [154.6502563  108.03885743 267.56056588]\n",
      "  [154.64166687 108.03680342 267.5595402 ]\n",
      "  ...\n",
      "  [154.73886084 108.07939169 267.60949049]\n",
      "  [154.74222723 108.08160237 267.60407994]\n",
      "  [154.73697935 108.07958521 267.60264861]]\n",
      "\n",
      " [[154.6499939  108.04000092 267.55999756]\n",
      "  [154.64438587 108.03924389 267.5613598 ]\n",
      "  [154.64675374 108.04083274 267.56533661]\n",
      "  ...\n",
      "  [154.70630882 108.09636979 267.5902895 ]\n",
      "  [154.70121393 108.09657191 267.58977828]\n",
      "  [154.70401436 108.09841851 267.58728671]]\n",
      "\n",
      " [[154.6499939  108.04000092 267.55999756]\n",
      "  [154.64689837 108.0383052  267.55584202]\n",
      "  [154.64661663 108.03891199 267.56010062]\n",
      "  ...\n",
      "  [154.76359784 108.10081973 267.7541824 ]\n",
      "  [154.7630458  108.10280618 267.75408454]\n",
      "  [154.75567517 108.1011515  267.75511605]]\n",
      "\n",
      " ...\n",
      "\n",
      " [[154.6499939  108.04000092 267.55999756]\n",
      "  [154.65113013 108.04099988 267.55900345]\n",
      "  [154.6528423  108.04361409 267.56336265]\n",
      "  ...\n",
      "  [154.87976537 108.10322473 267.65846401]\n",
      "  [154.87514159 108.10034987 267.65350841]\n",
      "  [154.87849564 108.1005196  267.65461554]]\n",
      "\n",
      " [[154.6499939  108.04000092 267.55999756]\n",
      "  [154.65229005 108.03989376 267.56018547]\n",
      "  [154.65357167 108.03939214 267.56223516]\n",
      "  ...\n",
      "  [154.55923666 108.04135969 267.54348274]\n",
      "  [154.56591222 108.04340577 267.54225268]\n",
      "  [154.55866818 108.04045568 267.5421839 ]]\n",
      "\n",
      " [[154.6499939  108.04000092 267.55999756]\n",
      "  [154.63837193 108.03900866 267.55476302]\n",
      "  [154.63061258 108.03658269 267.55296712]\n",
      "  ...\n",
      "  [154.6463568  108.08449711 267.6406721 ]\n",
      "  [154.64398734 108.08462862 267.6366371 ]\n",
      "  [154.63882939 108.08220574 267.63843536]]]\n"
     ]
    }
   ],
   "source": [
    "print(S)"
   ]
  },
  {
   "cell_type": "markdown",
   "id": "17622ddb",
   "metadata": {},
   "source": [
    "Per effettuare il pricing di una basket option, si calcola il payoff come differenza tra il valore complessivo di portafoglio a scadenza e lo strike price e, nei casi positivi, si attualizza il valore medio al tempo della sottoscrizione. Nel calcolo seguente si ipotizza che ogni titolo sia preso in quantità unitara all'interno del basket."
   ]
  },
  {
   "cell_type": "code",
   "execution_count": 23,
   "id": "4ed58f01",
   "metadata": {},
   "outputs": [
    {
     "name": "stdout",
     "output_type": "stream",
     "text": [
      "0.1256978286537978\n"
     ]
    }
   ],
   "source": [
    "basket_price = np.average(np.maximum(np.sum(S[:,-1], axis=1) - K, 0)) * np.exp(-r*T)\n",
    "\n",
    "print(basket_price)"
   ]
  },
  {
   "cell_type": "markdown",
   "id": "23180830",
   "metadata": {},
   "source": [
    "Per effettuare il pricing di una rainbow option, si calcola il payoff come differenza tra il max dei prezzi dei sottostanti considerati a scadenza e lo strike price. Nei casi positivi, si attualizza il valore medio al tempo della sottoscrizione:"
   ]
  },
  {
   "cell_type": "code",
   "execution_count": 24,
   "id": "d3b5ed3b",
   "metadata": {},
   "outputs": [
    {
     "name": "stdout",
     "output_type": "stream",
     "text": [
      "0.06494369041090231\n"
     ]
    }
   ],
   "source": [
    "rainbow_price = np.average(np.maximum(np.max(S[:,-1], axis=1) - Kr, 0)) * np.exp(-r*T)\n",
    "\n",
    "print(rainbow_price)"
   ]
  },
  {
   "cell_type": "markdown",
   "id": "ba63ab7c",
   "metadata": {},
   "source": [
    "Fonti:\n",
    "* _Options, Futures, and Other Derivatives_, John C. Hull - Pearson (2021)\n",
    "* Borsa Italiana"
   ]
  }
 ],
 "metadata": {
  "kernelspec": {
   "display_name": "Python 3 (ipykernel)",
   "language": "python",
   "name": "python3"
  },
  "language_info": {
   "codemirror_mode": {
    "name": "ipython",
    "version": 3
   },
   "file_extension": ".py",
   "mimetype": "text/x-python",
   "name": "python",
   "nbconvert_exporter": "python",
   "pygments_lexer": "ipython3",
   "version": "3.8.10"
  }
 },
 "nbformat": 4,
 "nbformat_minor": 5
}
